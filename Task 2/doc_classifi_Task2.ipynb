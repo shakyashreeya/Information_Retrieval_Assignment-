{
 "cells": [
  {
   "cell_type": "code",
   "execution_count": 1,
   "id": "8505a7f0",
   "metadata": {},
   "outputs": [],
   "source": [
    "import pandas as pd\n",
    "import nltk\n",
    "import string\n",
    "import tkinter as tk\n",
    "from tkinter import messagebox"
   ]
  },
  {
   "cell_type": "code",
   "execution_count": 2,
   "id": "2c771c3d",
   "metadata": {},
   "outputs": [
    {
     "name": "stdout",
     "output_type": "stream",
     "text": [
      "Index(['News', 'Labels'], dtype='object')\n"
     ]
    }
   ],
   "source": [
    "data = pd.read_csv('News_Data.csv', encoding='ISO-8859-1')\n",
    "print(data.columns)"
   ]
  },
  {
   "cell_type": "code",
   "execution_count": 3,
   "id": "721e92cb",
   "metadata": {},
   "outputs": [],
   "source": [
    "texts = data[\"News\"].tolist()\n",
    "labels = data[\"Labels\"].tolist()"
   ]
  },
  {
   "cell_type": "markdown",
   "id": "e595114c",
   "metadata": {},
   "source": [
    "Removing Punctuation\n"
   ]
  },
  {
   "cell_type": "code",
   "execution_count": 25,
   "id": "59b9700c",
   "metadata": {},
   "outputs": [],
   "source": [
    "def remove_punctuation(text):\n",
    "    return text.translate(str.maketrans('', '', string.punctuation))\n",
    "data['News'] = data['News'].apply(remove_punctuation)"
   ]
  },
  {
   "cell_type": "markdown",
   "id": "200a69b2",
   "metadata": {},
   "source": [
    "Converting to Lowercase"
   ]
  },
  {
   "cell_type": "code",
   "execution_count": 26,
   "id": "f23331bb",
   "metadata": {},
   "outputs": [],
   "source": [
    "def to_lowercase(text):\n",
    "    return text.lower()\n",
    "data['News'] = data['News'].apply(to_lowercase)"
   ]
  },
  {
   "cell_type": "markdown",
   "id": "699f30fa",
   "metadata": {},
   "source": [
    "Vectorization with Stop Word Removal"
   ]
  },
  {
   "cell_type": "code",
   "execution_count": null,
   "id": "639e6e00",
   "metadata": {},
   "outputs": [],
   "source": [
    "from sklearn.feature_extraction.text import CountVectorizer\n",
    "import nltk\n",
    "from nltk.corpus import stopwords\n",
    "vectorizer = CountVectorizer(stop_words='english')\n",
    "X = vectorizer.fit_transform(data['News'])"
   ]
  },
  {
   "cell_type": "code",
   "execution_count": 42,
   "id": "0eb43b81",
   "metadata": {},
   "outputs": [],
   "source": [
    "from sklearn.model_selection import train_test_split\n",
    "X_train_texts, X_test_texts, y_train, y_test = train_test_split(texts, labels, test_size=0.2, random_state=42)"
   ]
  },
  {
   "cell_type": "code",
   "execution_count": 37,
   "id": "ee93ba49",
   "metadata": {},
   "outputs": [],
   "source": [
    "X_train = vectorizer.fit_transform(X_train_texts)\n",
    "X_test = vectorizer.transform(X_test_texts)"
   ]
  },
  {
   "cell_type": "markdown",
   "id": "803d7ea0",
   "metadata": {},
   "source": [
    "Naive Bayes Model"
   ]
  },
  {
   "cell_type": "code",
   "execution_count": 85,
   "id": "1a5f456b",
   "metadata": {},
   "outputs": [
    {
     "name": "stdout",
     "output_type": "stream",
     "text": [
      "Accuracy: 0.90\n"
     ]
    }
   ],
   "source": [
    "from sklearn.naive_bayes import MultinomialNB\n",
    "from sklearn.metrics import accuracy_score\n",
    "classifier = MultinomialNB()\n",
    "classifier.fit(X_train, y_train)\n",
    "y_pred = classifier.predict(X_test)\n",
    "accuracy = accuracy_score(y_test, y_pred)\n",
    "print(f\"Accuracy: {accuracy:.2f}\")"
   ]
  },
  {
   "cell_type": "markdown",
   "id": "5ef221da",
   "metadata": {},
   "source": [
    "Logistic Regression Model"
   ]
  },
  {
   "cell_type": "code",
   "execution_count": null,
   "id": "1f7e7d25",
   "metadata": {},
   "outputs": [
    {
     "name": "stdout",
     "output_type": "stream",
     "text": [
      "Accuracy: 0.83\n"
     ]
    }
   ],
   "source": [
    "# from sklearn.linear_model import LogisticRegression\n",
    "# from sklearn.metrics import accuracy_score\n",
    "# classifier = LogisticRegression(max_iter=1000)\n",
    "# classifier.fit(X_train, y_train)\n",
    "# y_pred = classifier.predict(X_test)\n",
    "# accuracy = accuracy_score(y_test, y_pred)\n",
    "# print(f\"Accuracy: {accuracy:.2f}\")"
   ]
  },
  {
   "cell_type": "code",
   "execution_count": 44,
   "id": "b0a948f9",
   "metadata": {},
   "outputs": [],
   "source": [
    "def classify_document():\n",
    "    user_input = entry.get(\"1.0\", tk.END).strip()\n",
    "    if not user_input:\n",
    "        messagebox.showwarning(\"Input Error\", \"Please enter some text.\")\n",
    "        return\n",
    "\n",
    "  \n",
    "    input_vector = vectorizer.transform([user_input])\n",
    "    prediction = classifier.predict(input_vector)[0]\n",
    "    \n",
    "    \n",
    "    result_label.config(text=f\"Classification: {prediction}\\nModel Accuracy: {accuracy:.2%}\")\n",
    "\n",
    "\n",
    "root = tk.Tk()\n",
    "root.title(\"Document Classifier with Accuracy\")\n",
    "\n",
    "tk.Label(root, text=\"Enter Document Text:\").pack()\n",
    "\n",
    "entry = tk.Text(root, height=5, width=50)\n",
    "entry.pack()\n",
    "\n",
    "classify_button = tk.Button(root, text=\"Classify\", command=classify_document)\n",
    "classify_button.pack()\n",
    "\n",
    "\n",
    "result_label = tk.Label(root, text=\"Classification: \\nModel Accuracy: \", font=(\"Arial\", 12), justify=\"left\")\n",
    "result_label.pack()\n",
    "\n",
    "root.mainloop()"
   ]
  },
  {
   "cell_type": "code",
   "execution_count": 84,
   "id": "aaea0dcc",
   "metadata": {},
   "outputs": [],
   "source": [
    "import tkinter as tk\n",
    "from tkinter import messagebox\n",
    "\n",
    "def classify_document():\n",
    "    user_input = entry.get(\"1.0\", tk.END).strip()\n",
    "    if not user_input:\n",
    "        messagebox.showwarning(\"Input Error\", \"Please input text.\")\n",
    "        return\n",
    "\n",
    "    input_vector = vectorizer.transform([user_input])\n",
    "    prediction = classifier.predict(input_vector)[0]\n",
    "\n",
    "    result_label.config(text=f\"Classification: {prediction}\\nModel Accuracy: {accuracy:.2%}\")\n",
    "\n",
    "root = tk.Tk()\n",
    "root.title(\"Document Classifier with Accuracy\")\n",
    "root.geometry(\"1000x1000\")  \n",
    "root.configure(bg=\"#000000\")  \n",
    "\n",
    "frame = tk.Frame(root, bg=\"#000000\", padx=20, pady=20)\n",
    "frame.pack(expand=True)\n",
    "\n",
    "title_label = tk.Label(frame, text=\"Document Classification\", font=(\"Times New Roman\", 20, \"bold\"), bg=\"#000000\", fg=\"#FFFFFF\")\n",
    "title_label.pack(pady=5)\n",
    "\n",
    "entry_label = tk.Label(frame, text=\"Enter Text for Classification:\", font=(\"Times New Roman\", 14), bg=\"#000000\", fg=\"#FFFFFF\")\n",
    "entry_label.pack(anchor=\"w\")\n",
    "\n",
    "entry = tk.Text(frame, height=10, width=70, font=(\"Times New Roman\", 11), relief=\"solid\", bd=1)\n",
    "entry.pack(pady=5)\n",
    "\n",
    "classify_button = tk.Button(frame, text=\"Categorize\", font=(\"Times New Roman\", 11, \"bold\"), bg=\"#FFFFFF\", fg=\"black\",\n",
    "                            padx=10, pady=5, relief=\"raised\", command=classify_document)\n",
    "classify_button.pack(pady=10)\n",
    "\n",
    "result_label = tk.Label(frame, text=\"Category: \\nAccuracy Rate: \", font=(\"Times New Roman\", 12), bg=\"#f4f4f4\", fg=\"#333\",\n",
    "                        justify=\"left\", relief=\"solid\", bd=1, padx=10, pady=5)\n",
    "result_label.pack(pady=10, fill=\"x\")\n",
    "\n",
    "root.mainloop()\n"
   ]
  }
 ],
 "metadata": {
  "kernelspec": {
   "display_name": "base",
   "language": "python",
   "name": "python3"
  },
  "language_info": {
   "codemirror_mode": {
    "name": "ipython",
    "version": 3
   },
   "file_extension": ".py",
   "mimetype": "text/x-python",
   "name": "python",
   "nbconvert_exporter": "python",
   "pygments_lexer": "ipython3",
   "version": "3.12.4"
  }
 },
 "nbformat": 4,
 "nbformat_minor": 5
}
